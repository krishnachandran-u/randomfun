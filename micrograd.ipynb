{
 "cells": [
  {
   "cell_type": "code",
   "execution_count": 1,
   "metadata": {},
   "outputs": [],
   "source": [
    "from micrograd.nn import MLP\n",
    "import random"
   ]
  },
  {
   "cell_type": "code",
   "execution_count": 2,
   "metadata": {},
   "outputs": [],
   "source": [
    "# train_len = 5\n",
    "# n_in = 3\n",
    "# x_train = []\n",
    "# y_train = []\n",
    "\n",
    "# for _ in range(train_len):\n",
    "#     xi = []\n",
    "#     for _ in range(n_in):\n",
    "#         # xi.append(random.gauss(0, 1))\n",
    "#         xi.append(random.uniform(-1, 1))\n",
    "#     x_train.append(xi)\n",
    "\n",
    "# for _ in range(train_len):\n",
    "#     y_train.append(random.uniform(-1, 1))\n",
    "\n",
    "# x_train, y_train"
   ]
  },
  {
   "cell_type": "code",
   "execution_count": 3,
   "metadata": {},
   "outputs": [],
   "source": [
    "x_train = [\n",
    "    [2.0, 3.0, -1.0],\n",
    "    [3.0, -1.0, 0.5],\n",
    "    [0.5, 1.0, 1.0],\n",
    "    [1.0, 1.0, -1.0]\n",
    "]\n",
    "y_train = [1.0, -1.0, 1.0, -1.0]"
   ]
  },
  {
   "cell_type": "code",
   "execution_count": 4,
   "metadata": {},
   "outputs": [],
   "source": [
    "mlp = MLP(3, [4, 4, 1])\n",
    "# len(mlp.params())"
   ]
  },
  {
   "cell_type": "code",
   "execution_count": 5,
   "metadata": {},
   "outputs": [
    {
     "name": "stdout",
     "output_type": "stream",
     "text": [
      "[0.0, 0.0, 0.0, 0.0, 0.0, 0.0, 0.0, 0.0, 0.0, 0.0]\n"
     ]
    },
    {
     "data": {
      "text/plain": [
       "[(1.0, 1.0), (-1.0, -1.0), (1.0, 1.0), (-1.0, -1.0)]"
      ]
     },
     "execution_count": 5,
     "metadata": {},
     "output_type": "execute_result"
    }
   ],
   "source": [
    "epochs = 1000\n",
    "losses = []\n",
    "for _ in range(epochs):\n",
    "    y_pred = [mlp(x)[0] for x in x_train]\n",
    "    # print(f'{y_pred=}\\n{y_train=}')\n",
    "    loss = sum((yp - yt)**2 for yp, yt in zip(y_pred, y_train)) \n",
    "    losses.append(loss.data)\n",
    "    loss.backward()\n",
    "    for p in mlp.params():\n",
    "        p.data += -0.01 * p.grad\n",
    "    # print(loss.data)\n",
    "print(losses[-10:])\n",
    "[(yp.data, yt) for yp, yt in zip(y_pred, y_train)]"
   ]
  },
  {
   "cell_type": "code",
   "execution_count": null,
   "metadata": {},
   "outputs": [],
   "source": []
  },
  {
   "cell_type": "code",
   "execution_count": null,
   "metadata": {},
   "outputs": [],
   "source": []
  }
 ],
 "metadata": {
  "kernelspec": {
   "display_name": "Python 3 (ipykernel)",
   "language": "python",
   "name": "python3"
  },
  "language_info": {
   "codemirror_mode": {
    "name": "ipython",
    "version": 3
   },
   "file_extension": ".py",
   "mimetype": "text/x-python",
   "name": "python",
   "nbconvert_exporter": "python",
   "pygments_lexer": "ipython3",
   "version": "3.10.12"
  }
 },
 "nbformat": 4,
 "nbformat_minor": 4
}
